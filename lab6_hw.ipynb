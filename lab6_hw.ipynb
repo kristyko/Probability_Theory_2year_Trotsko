{
 "cells": [
  {
   "cell_type": "markdown",
   "metadata": {},
   "source": [
    "# Домашня робота №6"
   ]
  },
  {
   "cell_type": "markdown",
   "metadata": {},
   "source": [
    "# Математичне сподівання та дисперсія"
   ]
  },
  {
   "cell_type": "markdown",
   "metadata": {},
   "source": [
    "## 1 Порівняння"
   ]
  },
  {
   "cell_type": "markdown",
   "metadata": {},
   "source": [
    "1. Реалізуйте функцію для підрахунку математичного сподівання випадкової величини $\\xi$, заданої в класі **scipy.stats**, усіма можливими способами:\n",
    "   - за допомогою методу **mean**;\n",
    "   - за допомогою методу **expect**;\n",
    "   - за допомогою методу **stats**.\n",
    "\n",
    "2. Реалізуйте функцію для підрахунку дисперсії випадкової величини $\\xi$, заданої в класі **scipy.stats**, усіма можливими способами:\n",
    "   - за допомогою методу **var**;\n",
    "   - за допомогою методу **expect** та формули для дисперсії \n",
    "$\\mathsf{D}(\\xi) = \\mathsf{E} \\left[ \\left( \\xi - \\mathsf{E}[\\xi] \\right)^2 \\right]$;\n",
    "   - за допомогою методу **expect** та формули для дисперсії\n",
    "$\\mathsf{D}(\\xi) = \\mathsf{E}[\\xi^2] - \\left( \\mathsf{E}[\\xi] \\right)^2$;\n",
    "   - за допомогою методу **stats**.\n",
    "\n",
    "3. Порахуйте математичне сподівання та дисперсію, використовуючи функції з пунктів **1., 2.**, і порівняйте (виведіть різницю) їх із теоретичними значеннями, використовуючи формули з лекцій, для таких випадкових величин:\n",
    "   - $\\xi \\sim Binom(10, 0.4)$ (біноміальний розподіл);\n",
    "   - $\\xi \\sim Geom(0.5)$ (геометричний розподіл);\n",
    "   - $\\xi \\sim Pois(0.6)$ (розподіл Пуассона);\n",
    "   - $\\xi \\sim NBinom(5, 0.4)$ (від'ємний біноміальний розподіл);\n",
    "   - $\\xi \\sim HGeom(20, 7, 12)$ (гіпергеометричний розподіл);\n",
    "   - $\\xi \\sim Unif(0, 1)$ (рівномірний розподіл);\n",
    "   - $\\xi \\sim Exp(0.5)$ (експоненційний (показниковий) розподіл);\n",
    "   - $\\xi \\sim N(0, 1)$ (нормальний розподіл);\n",
    "   - $\\xi \\sim \\Gamma(2)$ (гамма розподіл);\n",
    "   - $\\xi \\sim LogNorm(0, 1)$ (логнормальний розподіл);\n",
    "   - $\\xi \\sim B(2, 1.1)$ (бета розподіл)."
   ]
  },
  {
   "cell_type": "code",
   "execution_count": 67,
   "metadata": {},
   "outputs": [],
   "source": [
    "import numpy as np\n",
    "import scipy.stats as stat\n",
    "\n",
    "\n",
    "def expectation(xi):\n",
    "    return [xi.mean(), xi.expect(), xi.stats()[0]]\n",
    "\n",
    "def variance(xi):\n",
    "    def f1(x):\n",
    "        return (x - xi.expect()) ** 2\n",
    "    \n",
    "    def f2(x):\n",
    "        return x ** 2\n",
    "    \n",
    "    return [xi.var(), xi.expect(f1), xi.expect(f2) - xi.expect() ** 2, xi.stats()[1]]\n"
   ]
  },
  {
   "cell_type": "code",
   "execution_count": 68,
   "metadata": {
    "scrolled": false
   },
   "outputs": [
    {
     "name": "stdout",
     "output_type": "stream",
     "text": [
      "XI ~ BINOM(n=10, p=0.4)  (expectation = 4.0, variance = 2.4)\n",
      "  Математичне сподівання:\n",
      "   mean: 4.0\n",
      "   expect: 4.0000000000000036\n",
      "   stats: 4.0\n",
      "   різниця з теоретичним значенням: 0.0\n",
      "  Дисперсія:\n",
      "    var: 2.4\n",
      "    E[xi - E(xi)] ^ 2: 2.4000000000000012\n",
      "    E(xi ^ 2) - (E(xi)) ^ 2: 2.399999999999995\n",
      "    stats: 2.4\n",
      "   різниця з теоретичним значенням: 0.0\n",
      "\n",
      "XI ~ GEOM(p=0.5)  (expectation = 2.0, variance = 2.0)\n",
      "  Математичне сподівання:\n",
      "   mean: 2.0\n",
      "   expect: 2.0\n",
      "   stats: 2.0\n",
      "   різниця з теоретичним значенням: 0.0\n",
      "  Дисперсія:\n",
      "    var: 2.0\n",
      "    E[xi - E(xi)] ^ 2: 2.0\n",
      "    E(xi ^ 2) - (E(xi)) ^ 2: 2.0\n",
      "    stats: 2.0\n",
      "   різниця з теоретичним значенням: 0.0\n",
      "\n",
      "XI ~ POIS(mu=0.6)  (expectation = 0.6, variance = 0.6)\n",
      "  Математичне сподівання:\n",
      "   mean: 0.6\n",
      "   expect: 0.6\n",
      "   stats: 0.6\n",
      "   різниця з теоретичним значенням: 0.0\n",
      "  Дисперсія:\n",
      "    var: 0.6\n",
      "    E[xi - E(xi)] ^ 2: 0.5999999999999999\n",
      "    E(xi ^ 2) - (E(xi)) ^ 2: 0.6\n",
      "    stats: 0.6\n",
      "   різниця з теоретичним значенням: 0.0\n",
      "\n",
      "XI ~ NBINOM(n=5, p=0.4)  (expectation = 7.5, variance = 18.749999999999996)\n",
      "  Математичне сподівання:\n",
      "   mean: 7.5\n",
      "   expect: 7.500000000000006\n",
      "   stats: 7.5\n",
      "   різниця з теоретичним значенням: 0.0\n",
      "  Дисперсія:\n",
      "    var: 18.75\n",
      "    E[xi - E(xi)] ^ 2: 18.750000000000007\n",
      "    E(xi ^ 2) - (E(xi)) ^ 2: 18.749999999999964\n",
      "    stats: 18.75\n",
      "   різниця з теоретичним значенням: -3.552713678800501e-15\n",
      "\n",
      "XI ~ HGEOM(M=20, n=7, N=12)  (expectation = 4.2, variance = 1.1494736842105262)\n",
      "  Математичне сподівання:\n",
      "   mean: 4.199999999999999\n",
      "   expect: 4.199999999999995\n",
      "   stats: 4.199999999999999\n",
      "   різниця з теоретичним значенням: 8.881784197001252e-16\n",
      "  Дисперсія:\n",
      "    var: 1.1494736842105264\n",
      "    E[xi - E(xi)] ^ 2: 1.1494736842105246\n",
      "    E(xi ^ 2) - (E(xi)) ^ 2: 1.149473684210541\n",
      "    stats: 1.1494736842105264\n",
      "   різниця з теоретичним значенням: -2.220446049250313e-16\n",
      "\n",
      "XI ~ UNIFORM(a=0, b=1)  (expectation = 0.5, variance = 0.08333333333333333)\n",
      "  Математичне сподівання:\n",
      "   mean: 0.5\n",
      "   expect: 0.5\n",
      "   stats: 0.5\n",
      "   різниця з теоретичним значенням: 0.0\n",
      "  Дисперсія:\n",
      "    var: 0.08333333333333333\n",
      "    E[xi - E(xi)] ^ 2: 0.08333333333333333\n",
      "    E(xi ^ 2) - (E(xi)) ^ 2: 0.08333333333333337\n",
      "    stats: 0.08333333333333333\n",
      "   різниця з теоретичним значенням: 0.0\n",
      "\n",
      "XI ~ EXPONENTIAL(lambda=0.5)  (expectation = 2.0, variance = 4.0)\n",
      "  Математичне сподівання:\n",
      "   mean: 2.0\n",
      "   expect: 1.9999999999999998\n",
      "   stats: 2.0\n",
      "   різниця з теоретичним значенням: 0.0\n",
      "  Дисперсія:\n",
      "    var: 4.0\n",
      "    E[xi - E(xi)] ^ 2: 4.0\n",
      "    E(xi ^ 2) - (E(xi)) ^ 2: 4.000000000000001\n",
      "    stats: 4.0\n",
      "   різниця з теоретичним значенням: 0.0\n",
      "\n",
      "XI ~ NORMAL(a=0, b=1)  (expectation = 0, variance = 1)\n",
      "  Математичне сподівання:\n",
      "   mean: 0.0\n",
      "   expect: 0.0\n",
      "   stats: 0.0\n",
      "   різниця з теоретичним значенням: 0.0\n",
      "  Дисперсія:\n",
      "    var: 1.0\n",
      "    E[xi - E(xi)] ^ 2: 1.000000000000001\n",
      "    E(xi ^ 2) - (E(xi)) ^ 2: 1.000000000000001\n",
      "    stats: 1.0\n",
      "   різниця з теоретичним значенням: 0.0\n",
      "\n",
      "XI ~ GAMMA(a=2)  (expectation = 2, variance = 2)\n",
      "  Математичне сподівання:\n",
      "   mean: 2.0\n",
      "   expect: 2.0\n",
      "   stats: 2.0\n",
      "   різниця з теоретичним значенням: 0.0\n",
      "  Дисперсія:\n",
      "    var: 2.0\n",
      "    E[xi - E(xi)] ^ 2: 2.0000000000000004\n",
      "    E(xi ^ 2) - (E(xi)) ^ 2: 2.0\n",
      "    stats: 2.0\n",
      "   різниця з теоретичним значенням: 0.0\n",
      "\n",
      "XI ~ LOGNORM(mu=0, sigma=1)  (expectation = 1.6487212707001282, variance = 4.670774270471604)\n",
      "  Математичне сподівання:\n",
      "   mean: 1.6487212707001282\n",
      "   expect: 1.6487212706999776\n",
      "   stats: 1.6487212707001282\n",
      "   різниця з теоретичним значенням: 0.0\n",
      "  Дисперсія:\n",
      "    var: 4.670774270471604\n",
      "    E[xi - E(xi)] ^ 2: 4.670774270452187\n",
      "    E(xi ^ 2) - (E(xi)) ^ 2: 4.670774270429307\n",
      "    stats: 4.670774270471604\n",
      "   різниця з теоретичним значенням: 0.0\n",
      "\n",
      "XI ~ BETA(a=2, b=1.1)  (expectation = 0.6451612903225806, variance = 0.055836146290703284)\n",
      "  Математичне сподівання:\n",
      "   mean: 0.6451612903225806\n",
      "   expect: 0.6451612903225803\n",
      "   stats: 0.6451612903225806\n",
      "   різниця з теоретичним значенням: 0.0\n",
      "  Дисперсія:\n",
      "    var: 0.05583614629070329\n",
      "    E[xi - E(xi)] ^ 2: 0.055836146290680275\n",
      "    E(xi ^ 2) - (E(xi)) ^ 2: 0.05583614629070349\n",
      "    stats: 0.05583614629070329\n",
      "   різниця з теоретичним значенням: -6.938893903907228e-18\n",
      "\n"
     ]
    }
   ],
   "source": [
    "distr = [('XI ~ BINOM(n=10, p=0.4)', stat.binom(n=10, p=0.4), 10 * 0.4, 10 * 0.4 * 0.6), \n",
    "         ('XI ~ GEOM(p=0.5)', stat.geom(p=0.5), 1/0.5, 1 / 0.5),\n",
    "         ('XI ~ POIS(mu=0.6)', stat.poisson(0.6), 0.6, 0.6),\n",
    "         ('XI ~ NBINOM(n=5, p=0.4)', stat.nbinom(n=5, p=0.4), 5*0.6 / 0.4, 0.6 * 5 / 0.4**2),\n",
    "         ('XI ~ HGEOM(M=20, n=7, N=12)', stat.hypergeom(M=20, n=7, N=12), 7*12/20, 7*12*13*8 / 20**2 / 19),\n",
    "         ('XI ~ UNIFORM(a=0, b=1)', stat.uniform(loc=0, scale=1), 1 / 2, 1 / 12), \n",
    "         ('XI ~ EXPONENTIAL(lambda=0.5)', stat.expon(loc=0, scale=1/0.5), 1/0.5, 1/0.5**2),\n",
    "         ('XI ~ NORMAL(a=0, b=1)', stat.norm(0, 1), 0, 1),\n",
    "         ('XI ~ GAMMA(a=2)', stat.gamma(2), 2, 2), \n",
    "         ('XI ~ LOGNORM(mu=0, sigma=1)', stat.lognorm(s=1, loc=0, scale=1), np.exp(0.5), (np.exp(1) - 1) * np.exp(1)), \n",
    "         ('XI ~ BETA(a=2, b=1.1)', stat.beta(2, 1.1), 2 / 3.1, 2.2 / (3.1**2*4.1))]\n",
    "\n",
    "# оскільки дані, отримані різними методами вкрай мало відрізняються,\n",
    "# є сенс рахувати різницю з теоретичними значеннями тільки дані отримані якимось одним методом\n",
    "for name, xi, m_t, v_t in distr:\n",
    "    print('{}  (expectation = {}, variance = {})'.format(name, m_t, v_t))\n",
    "    e = expectation(xi)\n",
    "    v = variance(xi)\n",
    "    print('  Математичне сподівання:\\n   mean: {}\\n   expect: {}\\n   stats: {}\\n   різниця з теоретичним значенням: {}'.format(*e, m_t-e[0]))\n",
    "    print('  Дисперсія:\\n    var: {}\\n    E[xi - E(xi)] ^ 2: {}\\n    E(xi ^ 2) - (E(xi)) ^ 2: {}\\n    stats: {}\\n   різниця з теоретичним значенням: {}\\n'.format(*v, v_t-v[0]))\n"
   ]
  },
  {
   "cell_type": "markdown",
   "metadata": {},
   "source": [
    "## 2 Унікальні цифри"
   ]
  },
  {
   "cell_type": "markdown",
   "metadata": {},
   "source": [
    "Нехай випадковим чином вибирають послідовно $n$ цифр (цифри можуть повторюватися, вибірка з поверненням).\n",
    "Нехай тоді випадкова величина $\\xi$ - це кількість унікальних цифр в отриманому наборі.\n",
    "\n",
    "Напишіть функцію для обрахунку математичного сподівання та дисперсії випадкової величини $\\xi$ в залежності від кількості $n$ цифр у наборі методом повного перебору.\n",
    "Виведіть результат для $n = 1, 2, 3, 4, 5, 6, 7.$"
   ]
  },
  {
   "cell_type": "code",
   "execution_count": 69,
   "metadata": {},
   "outputs": [
    {
     "name": "stdout",
     "output_type": "stream",
     "text": [
      "n = 1: mean = 1.00000; variation = 0.00000\n",
      "n = 2: mean = 1.90000; variation = 0.09000\n",
      "n = 3: mean = 2.71000; variation = 0.22590\n",
      "n = 4: mean = 3.43900; variation = 0.37828\n",
      "n = 5: mean = 4.09510; variation = 0.52826\n",
      "n = 6: mean = 4.68559; variation = 0.66442\n",
      "n = 7: mean = 5.21703; variation = 0.78054\n"
     ]
    }
   ],
   "source": [
    "from itertools import product\n",
    "\n",
    "def count(lst, n):\n",
    "    pk = np.zeros((n+1,), dtype=int)\n",
    "    for i in lst:\n",
    "        pk[len(set(i))] += 1\n",
    "    return pk / len(lst)\n",
    "    \n",
    "def expect(xk, pk):\n",
    "    return sum(xk * pk)\n",
    "\n",
    "\n",
    "for n in range(1, 8):\n",
    "    lst = list(product(range(0,10), repeat=n))\n",
    "    xk = np.arange(n + 1)\n",
    "    pk = count(lst, n)\n",
    "    e = expect(xk, pk)\n",
    "    v = expect(xk**2, pk) - e**2\n",
    "    print('n = {}: mean = {:.5f}; variation = {:.5f}'.format(n, e, v))"
   ]
  },
  {
   "cell_type": "markdown",
   "metadata": {},
   "source": [
    "## 3 Максимальне значення"
   ]
  },
  {
   "cell_type": "markdown",
   "metadata": {},
   "source": [
    "Нехай випадкова величина $\\xi$ - це максимальне значення після $n$ кидків грального кубика.\n",
    "\n",
    "Напишіть функцію для обрахунку математичного сподівання та дисперсії випадкової величини $\\xi$ в залежності від кількості $n$ кидків кубика методом повного перебору.\n",
    "Виведіть результат для $n = 1, 2, 3, 4, 5, 6, 7, 8, 9.$\n",
    "\n",
    "Напишіть теоретичну формулу для математичного сподівання та дисперсії випадкової величини $\\xi$.\n",
    "Порівняйте теоретичні значення з обчисленими повним перебором."
   ]
  },
  {
   "cell_type": "code",
   "execution_count": 70,
   "metadata": {},
   "outputs": [
    {
     "name": "stdout",
     "output_type": "stream",
     "text": [
      "n = 1: mean = 3.50000; variation = 2.91667\n",
      "       mean = 3.50000; variation = 2.91667 (theoretical)\n",
      "n = 2: mean = 4.47222; variation = 1.97145\n",
      "       mean = 4.47222; variation = 1.97145 (theoretical)\n",
      "n = 3: mean = 4.95833; variation = 1.30845\n",
      "       mean = 4.95833; variation = 1.30845 (theoretical)\n",
      "n = 4: mean = 5.24460; variation = 0.91008\n",
      "       mean = 5.24460; variation = 0.91008 (theoretical)\n",
      "n = 5: mean = 5.43094; variation = 0.65933\n",
      "       mean = 5.43094; variation = 0.65933 (theoretical)\n",
      "n = 6: mean = 5.56029; variation = 0.49285\n",
      "       mean = 5.56029; variation = 0.49285 (theoretical)\n",
      "n = 7: mean = 5.65412; variation = 0.37733\n",
      "       mean = 5.65412; variation = 0.37733 (theoretical)\n",
      "n = 8: mean = 5.72435; variation = 0.29425\n",
      "       mean = 5.72435; variation = 0.29425 (theoretical)\n",
      "n = 9: mean = 5.77818; variation = 0.23276\n",
      "       mean = 5.77818; variation = 0.23276 (theoretical)\n"
     ]
    }
   ],
   "source": [
    "def count(lst):\n",
    "    pk = np.zeros((6,), dtype=int)\n",
    "    for i in range(len(pk)):\n",
    "        pk[i] = len(list(filter(lambda x: max(x) == i+1, lst)))\n",
    "    return pk / len(lst)\n",
    "\n",
    "def count_theor(n):\n",
    "    pk = np.zeros((6,), dtype=int)\n",
    "    for i in range(len(pk)):\n",
    "        pk[i] = ((i+1) ** n - i ** n) \n",
    "    return pk / 6 ** n \n",
    "\n",
    "\n",
    "for n in range(1, 10):\n",
    "    lst = list(product(range(1, 7), repeat=n))\n",
    "    xk = np.arange(1, 7)\n",
    "    pk = count(lst)\n",
    "    pk_t = count_theor(n)\n",
    "    \n",
    "    e = expect(xk, pk)\n",
    "    v = expect(xk**2, pk) - e**2\n",
    "    e_t = expect(xk, pk_t)\n",
    "    v_t = expect(xk**2, pk_t) - e**2\n",
    "    print('n = {}: mean = {:.5f}; variation = {:.5f}'.format(n, e, v))\n",
    "    print('       mean = {:.5f}; variation = {:.5f} (theoretical)'.format(e_t, v_t))"
   ]
  },
  {
   "cell_type": "markdown",
   "metadata": {},
   "source": [
    "## 4 Сума значень"
   ]
  },
  {
   "cell_type": "markdown",
   "metadata": {},
   "source": [
    "Нехай випадкова величина $\\xi$ - це сума значень після $n$ кидків грального кубика (сума цифр, що випали).\n",
    "\n",
    "Напишіть функцію для обрахунку математичного сподівання та дисперсії випадкової величини $\\xi$ в залежності від кількості $n$ кидків кубика методом повного перебору.\n",
    "Виведіть результат для $n = 1, 2, 3, 5, 7, 8.$\n",
    "\n",
    "Напишіть теоретичну формулу для математичного сподівання та дисперсії випадкової величини $\\xi$.\n",
    "Порівняйте теоретичні значення з обчисленими повним перебором."
   ]
  },
  {
   "cell_type": "code",
   "execution_count": 71,
   "metadata": {
    "scrolled": false
   },
   "outputs": [
    {
     "name": "stdout",
     "output_type": "stream",
     "text": [
      "n = 1: mean = 3.50000; variation = 2.91667\n",
      "      mean = 3.50000; variation = 2.91667 (theoretical)\n",
      "n = 2: mean = 7.00000; variation = 5.83333\n",
      "      mean = 7.00000; variation = 5.83333 (theoretical)\n",
      "n = 3: mean = 10.50000; variation = 8.75000\n",
      "      mean = 10.50000; variation = 8.75000 (theoretical)\n",
      "n = 5: mean = 17.50000; variation = 14.58333\n",
      "      mean = 17.50000; variation = 14.58333 (theoretical)\n",
      "n = 7: mean = 24.50000; variation = 20.41667\n",
      "      mean = 24.50000; variation = 20.41667 (theoretical)\n",
      "n = 8: mean = 28.00000; variation = 23.33333\n",
      "      mean = 28.00000; variation = 23.33333 (theoretical)\n"
     ]
    }
   ],
   "source": [
    "def count(lst, n):\n",
    "    pk = np.zeros((6 * n + 1,), dtype=int)\n",
    "    for i in range(len(pk)):\n",
    "        pk[i] = len(list(filter(lambda x: sum(x) == i, lst)))\n",
    "    return pk / len(lst)\n",
    "\n",
    "\n",
    "# add also theory\n",
    "for n in [1, 2, 3, 5, 7, 8]:\n",
    "    dice = np.arange(1, 7)\n",
    "    lst = list(product(dice, repeat=n))\n",
    "    xk = np.arange(6 * n + 1)\n",
    "    pk = count(lst, n)\n",
    "    e = expect(xk, pk)\n",
    "    v = expect(xk**2, pk) - e**2\n",
    "    \n",
    "    pk_t = np.array([1 / 6] * 6)\n",
    "    e_t = expect(dice, pk_t)\n",
    "    v_t = expect(dice ** 2, pk_t) - e_t ** 2\n",
    "    print('n = {}: mean = {:.5f}; variation = {:.5f}'.format(n, e, v))\n",
    "    print('      mean = {:.5f}; variation = {:.5f} (theoretical)'.format(n * e_t, n * v_t))"
   ]
  },
  {
   "cell_type": "markdown",
   "metadata": {},
   "source": [
    "## 5 Парадокс днів народження"
   ]
  },
  {
   "cell_type": "markdown",
   "metadata": {},
   "source": [
    "Нехай маємо $n$ людей.\n",
    "Їх дні народження припадають на один з 12 місяців.\n",
    "Нехай тоді випадкова величина $\\xi$ - це кількість співпадінь місяців народжень серед цих $n$ людей.\n",
    "\n",
    "Напишіть функцію для обрахунку математичного сподівання та дисперсії випадкової величини $\\xi$ в залежності від кількості $n$ людей методом повного перебору.\n",
    "Виведіть результат для $n = 1, 2, 3, 4, 5, 6.$\n",
    "\n",
    "Для якого $n$ виконується $\\mathsf{E}\\left[ \\xi \\right] \\geq 1$?\n",
    "\n",
    "**Зауваження.** Кількість співпадінь означає кількість однакових пар. Наприклад,\n",
    "- у наборі $\\{ 1, 1, 2, 3 \\}$ є одна пара;\n",
    "- у наборі $\\{ 1, 1, 1, 3 \\}$ є три пари;\n",
    "- у наборі $\\{ 1, 1, 1, 1 \\}$ є шість пар."
   ]
  },
  {
   "cell_type": "code",
   "execution_count": 72,
   "metadata": {
    "scrolled": false
   },
   "outputs": [
    {
     "name": "stdout",
     "output_type": "stream",
     "text": [
      "n = 1: mean = 0.00000; variation = 0.00000\n",
      "n = 2: mean = 0.08333; variation = 0.07639\n",
      "n = 3: mean = 0.25000; variation = 0.22917\n",
      "n = 4: mean = 0.50000; variation = 0.45833\n",
      "n = 5: mean = 0.83333; variation = 0.76389\n",
      "n = 6: mean = 1.25000; variation = 1.14583\n"
     ]
    }
   ],
   "source": [
    "# \"n choose 2\" - function (amount of pairs we could get out of n elements)\n",
    "def binom_n_2(n):\n",
    "    return int(n * (n-1) / 2)\n",
    "\n",
    "def count(lst, n):\n",
    "    pk = np.zeros((binom_n_2(n) + 1, ))\n",
    "    for i in lst:\n",
    "        pairs = sum([binom_n_2(i.count(j)) for j in range(1, 13)])\n",
    "        pk[pairs] += 1\n",
    "    return pk / len(lst)\n",
    "\n",
    "\n",
    "for n in range(1, 7):\n",
    "    lst = list(product(range(1, 13), repeat=n))\n",
    "    xk = np.arange(binom_n_2(n)+1)\n",
    "    pk = count(lst, n)\n",
    "    e = expect(xk, pk)\n",
    "    v = expect(xk**2, pk) - e**2\n",
    "    print('n = {}: mean = {:.5f}; variation = {:.5f}'.format(n, e, v))\n",
    "    \n"
   ]
  },
  {
   "cell_type": "code",
   "execution_count": null,
   "metadata": {},
   "outputs": [],
   "source": []
  }
 ],
 "metadata": {
  "kernelspec": {
   "display_name": "Python 3",
   "language": "python",
   "name": "python3"
  },
  "language_info": {
   "codemirror_mode": {
    "name": "ipython",
    "version": 3
   },
   "file_extension": ".py",
   "mimetype": "text/x-python",
   "name": "python",
   "nbconvert_exporter": "python",
   "pygments_lexer": "ipython3",
   "version": "3.7.0"
  }
 },
 "nbformat": 4,
 "nbformat_minor": 1
}
