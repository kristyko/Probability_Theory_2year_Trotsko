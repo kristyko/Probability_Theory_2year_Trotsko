{
 "cells": [
  {
   "cell_type": "markdown",
   "metadata": {},
   "source": [
    "# Домашня робота №2"
   ]
  },
  {
   "cell_type": "markdown",
   "metadata": {},
   "source": [
    "## 1 Пароль\n",
    "Напишіть програму (функцію) для генерування випадкового пароля з такими обмеженнями:\n",
    "- пароль складається з рівно $10$ символів\n",
    "- пароль містить хоча б одну маленьку латинську літеру [a-z]\n",
    "- пароль містить хоча б одну велику латинську літеру [A-Z]\n",
    "- пароль містить хоча б одну цифру [0-9]\n",
    "- пароль містить хоча б один спеціальний символ [~!@#$%^&*()-_+=\\/{}[].,?<>:;]"
   ]
  },
  {
   "cell_type": "code",
   "execution_count": 5,
   "metadata": {},
   "outputs": [
    {
     "name": "stdout",
     "output_type": "stream",
     "text": [
      "Generated password:  14zDj[g3:K\n"
     ]
    }
   ],
   "source": [
    "import numpy as np\n",
    "\n",
    "\n",
    "s_letters = [chr(i) for i in range(ord('a'), ord('z') + 1)]\n",
    "b_letters = [chr(i) for i in range(ord('A'), ord('Z') + 1)]\n",
    "numb = [str(i) for i in range(0, 10)]\n",
    "symb = list('~!@#$%^&*()-_+=\\/{}[].,?<>:;')\n",
    "password = [np.random.choice(i) for i in [s_letters, b_letters, numb, symb]] + \\\n",
    "           list(np.random.choice(s_letters + b_letters + numb + symb, size=6))\n",
    "np.random.shuffle(password)\n",
    "print('Generated password: ', ''.join(password))\n"
   ]
  },
  {
   "cell_type": "markdown",
   "metadata": {},
   "source": [
    "## 2 Герби в ряд\n",
    "Реалізуйте функцію для обчислення емпіричної та теоретичної імовірностей випадіння $k$ гербів (HEADS) підряд у серії з $n$ підкидань чесної монетки. Підрахуйте відповідні ймовірності для таких параметрів:\n",
    "- $k = 2, n = 10, 50, 100, 500, 1000, 5000, 10000$\n",
    "- $k = 3, n = 10, 50, 100, 500, 1000, 5000, 10000$\n",
    "\n",
    "**Зауваження.** Нехай $k = 2, n = 10$ та маємо таку послідовність результатів підкидання монети: $\\{ H, T, H, H, H, H, T, T, H, T \\}$. Тоді матимемо $3$ випадки випадіння двох гербів підряд та емпіричну ймовірність такої події $1/3$."
   ]
  },
  {
   "cell_type": "code",
   "execution_count": 8,
   "metadata": {},
   "outputs": [
    {
     "name": "stdout",
     "output_type": "stream",
     "text": [
      "k =  2\n",
      "  при n = 10 кількість випадіння k гербів підряд - 4\n",
      "  при n = 50 кількість випадіння k гербів підряд - 7\n",
      "  при n = 100 кількість випадіння k гербів підряд - 25\n",
      "  при n = 500 кількість випадіння k гербів підряд - 116\n",
      "  при n = 1000 кількість випадіння k гербів підряд - 241\n",
      "  при n = 5000 кількість випадіння k гербів підряд - 1354\n",
      "  при n = 10000 кількість випадіння k гербів підряд - 2543\n",
      "k =  3\n",
      "  при n = 10 кількість випадіння k гербів підряд - 0\n",
      "  при n = 50 кількість випадіння k гербів підряд - 8\n",
      "  при n = 100 кількість випадіння k гербів підряд - 12\n",
      "  при n = 500 кількість випадіння k гербів підряд - 72\n",
      "  при n = 1000 кількість випадіння k гербів підряд - 120\n",
      "  при n = 5000 кількість випадіння k гербів підряд - 589\n",
      "  при n = 10000 кількість випадіння k гербів підряд - 1237\n"
     ]
    }
   ],
   "source": [
    "def check(lst, k):\n",
    "    c = 0\n",
    "    h = ['H' for _ in range(k)]\n",
    "    for i in range(k, len(lst)+1):\n",
    "        if lst[i-k:i] == h:\n",
    "            c += 1\n",
    "    return c\n",
    "\n",
    "k = [2, 3]\n",
    "n = [10, 50, 100, 500, 1000, 5000, 10000]\n",
    "sides = ['H', 'T']\n",
    "for i in k:\n",
    "    print('k = ', i)\n",
    "    for j in n:\n",
    "        tosses = np.random.choice(sides, size=j)\n",
    "        print('  при n = {} кількість випадіння k гербів підряд - {}'.format(j, check(list(tosses), i)))\n"
   ]
  },
  {
   "cell_type": "markdown",
   "metadata": {},
   "source": [
    "## 3 Найбільше число\n",
    "Реалізуйте функцію підрахунку точної (теоретичної) імовірності того, що максимальне число після $n$ кидків звичайного грального кубика дорівнює $x\\_max$, для таких параметрів:\n",
    "- $n = 3, x\\_max = 6$\n",
    "- $n = 2, x\\_max = 3$\n",
    "- $n = 3, x\\_max = 5$\n",
    "\n",
    "Тобто, якщо $X_i, i = 1, \\ldots, n$, - число на $i$-му кидку кубика, а $X = \\max\\limits_{1 \\leq i \\leq n} X_i$, то потрібно знайти ймовірність $\\textbf{P} \\left( X = x\\_max \\right)$.\n",
    "\n",
    "Підрахуйте також емпіричні ймовірності відповідних подій у випадку $10000$ симуляцій.\n",
    "\n",
    "**Зауваження.** Якщо введені параметри не мають сенсу, то повертати $0$.\n",
    "Тобто, якщо вводиться $x\\_max < 1$ або $x\\_max > 6$."
   ]
  },
  {
   "cell_type": "code",
   "execution_count": 10,
   "metadata": {},
   "outputs": [
    {
     "name": "stdout",
     "output_type": "stream",
     "text": [
      "n = 3, x_max = 6\n",
      "Theoretical probability:  0.4212962962962963\n",
      "Empirical probability: 0.4262\n",
      "\n",
      "n = 2, x_max = 3\n",
      "Theoretical probability:  0.1388888888888889\n",
      "Empirical probability: 0.1354\n",
      "\n",
      "n = 3, x_max = 5\n",
      "Theoretical probability:  0.2824074074074074\n",
      "Empirical probability: 0.2817\n",
      "\n"
     ]
    }
   ],
   "source": [
    "import itertools\n",
    "\n",
    "\n",
    "N = 10000\n",
    "values = list(range(1, 7))\n",
    "for n, x_max in [(3, 6), (2, 3), (3, 5)]:\n",
    "    lst = list(itertools.product(values, repeat=n))\n",
    "    print('n = {}, x_max = {}'.format(n, x_max))\n",
    "    print('Theoretical probability: ', len(list(filter(lambda x: max(x) == x_max, lst)))/len(lst))\n",
    "\n",
    "    rand = [max(np.random.choice(values, size=n)) for _ in range(N)]\n",
    "    print('Empirical probability: {}\\n'.format(rand.count(x_max) / N))\n",
    "\n"
   ]
  },
  {
   "cell_type": "markdown",
   "metadata": {},
   "source": [
    "## 4 Сума чисел\n",
    "Реалізуйте функцію підрахунку точної (теоретичної) імовірності того, що сума чисел після $n$ кидків звичайного грального кубика дорівнює $s$, для таких параметрів:\n",
    "- $n = 3, s = 13$\n",
    "- $n = 2, s = 5$\n",
    "- $n = 3, s = 7$\n",
    "\n",
    "Тобто, якщо $X_i, i = 1, \\ldots, n$, - число на $i$-му кидку кубика, а $X = \\sum\\limits_{i = 1}^{n} X_i$, то потрібно знайти ймовірність $\\textbf{P} \\left( X = s \\right)$.\n",
    "\n",
    "Підрахуйте також емпіричні ймовірності відповідних подій у випадку $10000$ симуляцій.\n",
    "\n",
    "**Зауваження.** Якщо введені параметри не мають сенсу, то повертати $0$.\n",
    "Наприклад, якщо при $n = 3$ вводиться $s < 3$ або $s > 18$."
   ]
  },
  {
   "cell_type": "code",
   "execution_count": 11,
   "metadata": {},
   "outputs": [
    {
     "name": "stdout",
     "output_type": "stream",
     "text": [
      "n = 3, sum = 13\n",
      "Theoretical probability:  0.09722222222222222\n",
      "Empirical probability: 0.0952\n",
      "\n",
      "n = 2, sum = 5\n",
      "Theoretical probability:  0.1111111111111111\n",
      "Empirical probability: 0.1108\n",
      "\n",
      "n = 3, sum = 7\n",
      "Theoretical probability:  0.06944444444444445\n",
      "Empirical probability: 0.0661\n",
      "\n"
     ]
    }
   ],
   "source": [
    "N = 10000\n",
    "values = list(range(1, 7))\n",
    "for n, s in [(3, 13), (2, 5), (3, 7)]:\n",
    "    lst = list(itertools.product(values, repeat=n))\n",
    "    print('n = {}, sum = {}'.format(n, s))\n",
    "    print('Theoretical probability: ', len(list(filter(lambda x: sum(x) == s, lst))) / len(lst))\n",
    "\n",
    "    rand = [sum(np.random.choice(values, size=n)) for _ in range(N)]\n",
    "    print('Empirical probability: {}\\n'.format(rand.count(s) / N))\n"
   ]
  },
  {
   "cell_type": "code",
   "execution_count": null,
   "metadata": {},
   "outputs": [],
   "source": []
  }
 ],
 "metadata": {
  "kernelspec": {
   "display_name": "Python 3",
   "language": "python",
   "name": "python3"
  },
  "language_info": {
   "codemirror_mode": {
    "name": "ipython",
    "version": 3
   },
   "file_extension": ".py",
   "mimetype": "text/x-python",
   "name": "python",
   "nbconvert_exporter": "python",
   "pygments_lexer": "ipython3",
   "version": "3.7.0"
  }
 },
 "nbformat": 4,
 "nbformat_minor": 1
}
