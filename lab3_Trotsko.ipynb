{
 "cells": [
  {
   "cell_type": "markdown",
   "metadata": {},
   "source": [
    "# Домашня робота №3\n",
    "Будемо використовувати *Збірник задач з теорії ймовірностей та математичної статистики: навч. посібник / В.В. Голомозий, М.В. Карташов, К.В. Ральченко. – К.: Видавничо-поліграфічний центр «Київський університет», 2015. – 366 с.*\n",
    "Електронну версію збірника можна знайти [тут](http://probability.univ.kiev.ua/userfiles/kmv/gkr-problems.pdf)."
   ]
  },
  {
   "cell_type": "markdown",
   "metadata": {},
   "source": [
    "## 1 Задача 1.3.12\n",
    "Знайти ймовiрнiсть того, що серед трьох цифр, кожна з яких вибрана навмання, буде лише 1, 2, 3 рiзних.\n",
    "\n",
    "Обчисліть теоретичну (повним перебором) та еміричну (симулюванням $100000$ експериментів) імовірності."
   ]
  },
  {
   "cell_type": "code",
   "execution_count": 1,
   "metadata": {},
   "outputs": [
    {
     "name": "stdout",
     "output_type": "stream",
     "text": [
      "Theoretical probability\n",
      " for 1 different digit in a number: 0.01\n",
      " for 2 different digits in a number: 0.27\n",
      " for 3 different digits in a number: 0.72\n",
      "\n",
      "Empirical probability\n",
      " for 1 different digit in a number: 0.0103\n",
      " for 2 different digits in a number: 0.27048\n",
      " for 3 different digits in a number: 0.71922\n",
      "\n",
      "\n"
     ]
    }
   ],
   "source": [
    "import itertools\n",
    "import numpy as np\n",
    "\n",
    "\n",
    "def task1(k):\n",
    "    def check(arr):\n",
    "        e1, e2, e3 = 0, 0, 0\n",
    "        length = len(arr)\n",
    "        for x in arr:\n",
    "            l = len(set(x))\n",
    "            if l == 1:\n",
    "                e1 += 1\n",
    "            elif l == 2:\n",
    "                e2 += 1\n",
    "            else:\n",
    "                e3 += 1\n",
    "        return e1 / length, e2 / length, e3 / length\n",
    "\n",
    "    digits = list(range(10))\n",
    "    lst = list(itertools.product(digits, repeat=k))\n",
    "    print('Theoretical probability\\n'\n",
    "          ' for 1 different digit in a number: {}\\n'\n",
    "          ' for 2 different digits in a number: {}\\n'\n",
    "          ' for 3 different digits in a number: {}\\n'.format(*check(lst)))\n",
    "\n",
    "    n = 100000\n",
    "    lst_exp = [np.random.choice(digits, size=k) for _ in range(n)]\n",
    "    print('Empirical probability\\n'\n",
    "          ' for 1 different digit in a number: {}\\n'\n",
    "          ' for 2 different digits in a number: {}\\n'\n",
    "          ' for 3 different digits in a number: {}\\n\\n'.format(*check(lst_exp)))\n",
    "    \n",
    "task1(3)"
   ]
  },
  {
   "cell_type": "markdown",
   "metadata": {},
   "source": [
    "# 2 Задача 1.3.14\n",
    "З послiдовностi чисел $1, 2, . . . , n$ вибирають навмання $k$ рiзних чисел.\n",
    "Яка ймовiрнiсть того, що:\n",
    "1. кожне з вибраних чисел кратне даному числу $p$;\n",
    "2. кожне з вибраних чисел кратне хоча б одному з двох взаємно простих чисел $p$ i $q$;\n",
    "3. серед вибраних чисел є хоча б одне кратне $p$?\n",
    "\n",
    "Напишіть  відповідні функції для обрахунку теоретичної (повним перебором) та еміричної (симулюванням $100000$ експериментів) імовірностей в залежності від параметрів $n, k, p, q$.\n",
    "Виведіть результат для\n",
    "- $n = 25, k = 5, p = 3, q = 4$;\n",
    "- $n = 25, k = 10, p = 3, q = 4$."
   ]
  },
  {
   "cell_type": "code",
   "execution_count": 9,
   "metadata": {},
   "outputs": [
    {
     "name": "stdout",
     "output_type": "stream",
     "text": [
      "n = 25, k = 5, p = 3, q = 4\n",
      "Теоретина і емпірична ймовірності того, що:\n",
      " - кожне з вибраних чисел кратне даному числу p: 0.00336;   0.00342\n",
      " - кожне з вибраних чисел кратне хоча б одному з двох взаємно простих чисел p i q: 0.02538;   0.02563\n",
      " - серед вибраних чисел є хоча б одне кратне p: 0.85461;  0.85238\n",
      "\n",
      "n = 15, k = 6, p = 2, q = 5\n",
      "Теоретина і емпірична ймовірності того, що:\n",
      " - кожне з вибраних чисел кратне даному числу p: 0.01033;   0.01016\n",
      " - кожне з вибраних чисел кратне хоча б одному з двох взаємно простих чисел p i q: 0.04665;   0.04584\n",
      " - серед вибраних чисел є хоча б одне кратне p: 0.97699;  0.97742\n",
      "\n"
     ]
    }
   ],
   "source": [
    "def task2(n, k, p, q):\n",
    "    def check(lst, state='t'):\n",
    "        # щоб не перевіряти декілька разів один і той самий набір чисел\n",
    "        def theor(arr):\n",
    "            return len(set(itertools.permutations(arr)))\n",
    "\n",
    "        def emp(arr):\n",
    "            return 1\n",
    "\n",
    "        a, b, c = 0, 0, 0\n",
    "        L = 0\n",
    "\n",
    "        func = None\n",
    "        if state == 't':\n",
    "            func = theor\n",
    "        elif state == 'e':\n",
    "            func = emp\n",
    "\n",
    "        for el in lst:\n",
    "            el1 = [x % p == 0 for x in el]\n",
    "            l = func(el)\n",
    "            L += l\n",
    "            if all(el1):\n",
    "                a += l\n",
    "                b += l\n",
    "                c += l\n",
    "            elif any(el1):\n",
    "                c += l\n",
    "                el2 = [x % p == 0 or x % q == 0 for x in el]\n",
    "                if all(el2):\n",
    "                    b += l\n",
    "        return a / L, b / L, c / L\n",
    "\n",
    "    # Theoretical\n",
    "    comb = list(itertools.combinations_with_replacement(list(range(1, n + 1)), r=k))\n",
    "    ev1, ev2, ev3 = check(comb, state='t')\n",
    "\n",
    "    # Empirical\n",
    "    N = 100000\n",
    "    rand = [np.random.choice(list(range(1, n + 1)), size=k, replace=True) for _ in range(N)]\n",
    "    ev4, ev5, ev6 = check(rand, state='e')\n",
    "\n",
    "    print('n = {}, k = {}, p = {}, q = {}'.format(n, k, p, q))\n",
    "    print('Теоретина і емпірична ймовірності того, що:\\n'\n",
    "          ' - кожне з вибраних чисел кратне даному числу p: {:.5f};  {:.5f}\\n'\n",
    "          ' - кожне з вибраних чисел кратне хоча б одному з двох взаємно простих чисел p i q: {:.5f};  {:.5f}\\n'\n",
    "          ' - серед вибраних чисел є хоча б одне кратне p: {:.5f};  {:.5f}\\n'.format(ev1, ev4, ev2, ev5, ev3, ev6))\n",
    "\n",
    "# Довелося змінити деякі початкові дані через час виконання\n",
    "task2(25, 5, 3, 4)\n",
    "task2(15, 6, 2, 5)"
   ]
  },
  {
   "cell_type": "markdown",
   "metadata": {},
   "source": [
    "# 3 Задача 1.4.6\n",
    "В коморi знаходяться $n$ пар черевикiв.\n",
    "З них випадковим чином вибираються $2k$ черевикiв.\n",
    "Яка ймовiрнiсть того, що серед вибраних черевикiв:\n",
    "1. вiдсутнi парнi;\n",
    "2. є рiвно одна комплектна пара;\n",
    "3. є двi комплектнi пари?\n",
    "\n",
    "Напишіть  відповідні функції для обрахунку теоретичної (повним перебором) та еміричної (симулюванням $100000$ експериментів) імовірностей в залежності від параметрів $n, k$.\n",
    "Виведіть результат для\n",
    "- $n = 8, k = 4$;\n",
    "- $n = 13, k = 5$."
   ]
  },
  {
   "cell_type": "code",
   "execution_count": 18,
   "metadata": {},
   "outputs": [
    {
     "name": "stdout",
     "output_type": "stream",
     "text": [
      "n = 8, k = 4\n",
      "Теоретина і емпірична ймовірності того, що:\n",
      " - відсутні парні черевики: 0.01989;  0.02060\n",
      " - є рiвно одна комплектна пара: 0.27848;  0.28025\n",
      " - є двi комплектнi пари: 0.52214;  0.51807\n",
      "\n",
      "n = 13, k = 5\n",
      "Теоретина і емпірична ймовірності того, що:\n",
      " - відсутні парні черевики: 0.05514;  0.05498\n",
      " - є рiвно одна комплектна пара: 0.31014;  0.31067\n",
      " - є двi комплектнi пари: 0.43419;  0.43467\n",
      "\n"
     ]
    }
   ],
   "source": [
    "def task3(n, k):\n",
    "    def check(lst):\n",
    "        a, b, c = 0, 0, 0\n",
    "        L = len(lst)\n",
    "        for el in lst:\n",
    "            l = len(el)\n",
    "            l1 = len(set(el))\n",
    "            if l == l1:\n",
    "                a += 1\n",
    "            elif l - l1 == 1:\n",
    "                b += 1\n",
    "            elif l - l1 == 2:\n",
    "                c += 1\n",
    "        return a / L, b / L, c / L\n",
    "    \n",
    "    boots = [x for x in range(1, n+1)] * 2\n",
    "    # Theoretical\n",
    "    comb = list(itertools.combinations(boots, r=2*k))\n",
    "    ev1, ev2, ev3 = check(comb)\n",
    "\n",
    "    # Empirical\n",
    "    N = 100000\n",
    "    rand = [np.random.choice(boots, size=2*k, replace=False) for _ in range(N)]\n",
    "    ev4, ev5, ev6 = check(rand)\n",
    "\n",
    "    print('n = {}, k = {}'.format(n, k))\n",
    "    print('Теоретина і емпірична ймовірності того, що:\\n'\n",
    "          ' - відсутні парні черевики: {:.5f};  {:.5f}\\n'\n",
    "          ' - є рiвно одна комплектна пара: {:.5f};  {:.5f}\\n'\n",
    "          ' - є двi комплектнi пари: {:.5f};  {:.5f}\\n'.format(ev1, ev4, ev2, ev5, ev3, ev6))\n",
    "\n",
    "task3(8, 4)\n",
    "task3(13, 5)\n"
   ]
  },
  {
   "cell_type": "markdown",
   "metadata": {},
   "source": [
    "# 4 Задача 1.2.15\n",
    "Нехай $\\Omega = {1, 2, \\ldots, 2n}$.\n",
    "Всiм числам приписанi ймовiрностi, пропорцiйнi логарифмам цих чисел.\n",
    "Знайти цi ймовiрностi.\n",
    "Знайти ймовiрнiсть того, що в результатi експерименту з’явиться:\n",
    "1. парне число;\n",
    "2. непарне число.\n",
    "\n",
    "Напишіть функцію для обрахунку еміричної (симулюванням $100000$ експериментів) імовірності в залежності від параметра $n$.\n",
    "Виведіть результат для\n",
    "- $n = 10$;\n",
    "- $n = 25$."
   ]
  },
  {
   "cell_type": "code",
   "execution_count": 21,
   "metadata": {},
   "outputs": [
    {
     "name": "stdout",
     "output_type": "stream",
     "text": [
      "n = 10\n",
      "Theoretical probability\n",
      " - even number: 0.5205046299279228\n",
      " - odd number: 0.47949537007207726\n",
      "Empirical probability\n",
      " - even number: 0.52193\n",
      " - odd number: 0.47807\n"
     ]
    }
   ],
   "source": [
    "from math import factorial\n",
    "\n",
    "\n",
    "def task4(n):\n",
    "    def count_sum(lst):\n",
    "        s1, s2 = 0, 0\n",
    "        for i in range(0, len(lst), 2):\n",
    "            s2 += lst[i]\n",
    "            s1 += lst[i+1]\n",
    "        return s1, s2\n",
    "\n",
    "    # при n = 25 занадто велике число для обрахунку логарифма\n",
    "    f = factorial(2 * n)\n",
    "    k = np.log(f)\n",
    "    prob = [np.log(x) / k for x in range(1, 2 * n + 1)]\n",
    "\n",
    "    # theoretical probability\n",
    "    event1, event2 = count_sum(prob)\n",
    "    print('n =', n)\n",
    "    print('Theoretical probability\\n - even number: {}\\n - odd number: {}'.format(event1, event2))\n",
    "\n",
    "    # empirical\n",
    "    N = 100000\n",
    "    numbers = np.random.choice(list(range(1, 2 * n + 1)), size=N, replace=True, p=prob)\n",
    "    event1 = len(list(filter(lambda x: x % 2 == 0, numbers))) / N\n",
    "    print('Empirical probability\\n - even number: {}\\n - odd number: {}'.format(event1, 1 - event1))\n",
    "\n",
    "\n",
    "task4(10)"
   ]
  },
  {
   "cell_type": "code",
   "execution_count": null,
   "metadata": {},
   "outputs": [],
   "source": []
  }
 ],
 "metadata": {
  "kernelspec": {
   "display_name": "Python 3",
   "language": "python",
   "name": "python3"
  },
  "language_info": {
   "codemirror_mode": {
    "name": "ipython",
    "version": 3
   },
   "file_extension": ".py",
   "mimetype": "text/x-python",
   "name": "python",
   "nbconvert_exporter": "python",
   "pygments_lexer": "ipython3",
   "version": "3.7.0"
  }
 },
 "nbformat": 4,
 "nbformat_minor": 1
}
